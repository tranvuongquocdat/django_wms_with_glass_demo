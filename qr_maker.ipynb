{
 "cells": [
  {
   "cell_type": "code",
   "execution_count": 21,
   "metadata": {},
   "outputs": [],
   "source": [
    "import qrcode\n",
    "from PIL import Image\n",
    "\n",
    "# Data to encode\n",
    "data = r\"VD6\"\n",
    "\n",
    "# Create a QR code instance with higher version and error correction\n",
    "qr = qrcode.QRCode(\n",
    "    version=5,  # Higher version increases size\n",
    "    error_correction=qrcode.constants.ERROR_CORRECT_H,  # Higher error correction\n",
    "    box_size=20,  # Smaller box size for more detail\n",
    "    border=2,  # Thinner border\n",
    ")\n",
    "\n",
    "# Add data to the QR code\n",
    "qr.add_data(data)\n",
    "qr.make(fit=True)\n",
    "\n",
    "# Create an image from the QR code with different colors\n",
    "img = qr.make_image(fill='black', back_color='white')\n",
    "\n",
    "# Save the image\n",
    "img.save(\"qr_code/\" + data + \".png\")\n",
    "\n",
    "# # Display the QR code\n",
    "# img.show()\n"
   ]
  }
 ],
 "metadata": {
  "kernelspec": {
   "display_name": "Python 3",
   "language": "python",
   "name": "python3"
  },
  "language_info": {
   "codemirror_mode": {
    "name": "ipython",
    "version": 3
   },
   "file_extension": ".py",
   "mimetype": "text/x-python",
   "name": "python",
   "nbconvert_exporter": "python",
   "pygments_lexer": "ipython3",
   "version": "3.11.7"
  }
 },
 "nbformat": 4,
 "nbformat_minor": 2
}
